{
  "nbformat": 4,
  "nbformat_minor": 0,
  "metadata": {
    "colab": {
      "name": "Copy of Untitled1.ipynb",
      "version": "0.3.2",
      "provenance": [],
      "collapsed_sections": [],
      "toc_visible": true,
      "include_colab_link": true
    },
    "kernelspec": {
      "name": "python3",
      "display_name": "Python 3"
    }
  },
  "cells": [
    {
      "cell_type": "markdown",
      "metadata": {
        "id": "view-in-github",
        "colab_type": "text"
      },
      "source": [
        "<a href=\"https://colab.research.google.com/github/BitKnitting/HAR_LSTM_COLAB/blob/master/Copy_of_Untitled1.ipynb\" target=\"_parent\"><img src=\"https://colab.research.google.com/assets/colab-badge.svg\" alt=\"Open In Colab\"/></a>"
      ]
    },
    {
      "cell_type": "code",
      "metadata": {
        "id": "tgSDOUPqon3Y",
        "colab_type": "code",
        "colab": {}
      },
      "source": [
        ""
      ],
      "execution_count": 0,
      "outputs": []
    },
    {
      "cell_type": "markdown",
      "metadata": {
        "id": "9OJuq2-SqXvM",
        "colab_type": "text"
      },
      "source": [
        "# Overview\n",
        "My goal is to understand how to input samples of people doing things like walking and falling (Human Activity) then use LSTM Deep Learning in Keras to figure out future samples.\n",
        "\n",
        "## Thanks to Those that Went Before\n",
        "\n",
        "There are several write up that use [‘Activity Recognition Using Smart Phones Dataset’](https://archive.ics.uci.edu/ml/datasets/human+activity+recognition+using+smartphones) :\n",
        "- [How to Develop RNN Models for Human Activity Recognition Time Series Classification](https://machinelearningmastery.com/how-to-develop-rnn-models-for-human-activity-recognition-time-series-classification/)  \n",
        "- [Human Activity Recognition (HAR) Tutorial with Keras and Core ML (Part 1)](https://towardsdatascience.com/human-activity-recognition-har-tutorial-with-keras-and-core-ml-part-1-8c05e365dfa0)  \n",
        "  \n",
        "  \n",
        "Because of this, I will start with this dataset"
      ]
    },
    {
      "cell_type": "markdown",
      "metadata": {
        "id": "e3GNa-2Bq-Us",
        "colab_type": "text"
      },
      "source": [
        "# Read in the Data\n"
      ]
    },
    {
      "cell_type": "code",
      "metadata": {
        "id": "YQ7K3UUXrCQh",
        "colab_type": "code",
        "colab": {}
      },
      "source": [
        ""
      ],
      "execution_count": 0,
      "outputs": []
    },
    {
      "cell_type": "code",
      "metadata": {
        "id": "P2pt1gMGrFxA",
        "colab_type": "code",
        "outputId": "cc386e8b-eb1e-45fd-b6ce-6654ba86c65c",
        "colab": {
          "base_uri": "https://localhost:8080/",
          "height": 127
        }
      },
      "source": [
        "from google.colab import drive\n",
        "drive.mount('/content/drive')"
      ],
      "execution_count": 0,
      "outputs": [
        {
          "output_type": "stream",
          "text": [
            "Go to this URL in a browser: https://accounts.google.com/o/oauth2/auth?client_id=947318989803-6bn6qk8qdgf4n4g3pfee6491hc0brc4i.apps.googleusercontent.com&redirect_uri=urn%3Aietf%3Awg%3Aoauth%3A2.0%3Aoob&scope=email%20https%3A%2F%2Fwww.googleapis.com%2Fauth%2Fdocs.test%20https%3A%2F%2Fwww.googleapis.com%2Fauth%2Fdrive%20https%3A%2F%2Fwww.googleapis.com%2Fauth%2Fdrive.photos.readonly%20https%3A%2F%2Fwww.googleapis.com%2Fauth%2Fpeopleapi.readonly&response_type=code\n",
            "\n",
            "Enter your authorization code:\n",
            "··········\n",
            "Mounted at /content/drive\n"
          ],
          "name": "stdout"
        }
      ]
    },
    {
      "cell_type": "markdown",
      "metadata": {
        "id": "y5ugxx1trfSN",
        "colab_type": "text"
      },
      "source": [
        "# New Section"
      ]
    }
  ]
}