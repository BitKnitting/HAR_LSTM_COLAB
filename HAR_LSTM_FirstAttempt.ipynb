{
  "nbformat": 4,
  "nbformat_minor": 0,
  "metadata": {
    "colab": {
      "name": "HAR_LSTM_FirstAttempt.ipynb",
      "version": "0.3.2",
      "provenance": [],
      "collapsed_sections": [],
      "toc_visible": true,
      "include_colab_link": true
    },
    "kernelspec": {
      "name": "python3",
      "display_name": "Python 3"
    }
  },
  "cells": [
    {
      "cell_type": "markdown",
      "metadata": {
        "id": "view-in-github",
        "colab_type": "text"
      },
      "source": [
        "<a href=\"https://colab.research.google.com/github/BitKnitting/HAR_LSTM_COLAB/blob/master/HAR_LSTM_FirstAttempt.ipynb\" target=\"_parent\"><img src=\"https://colab.research.google.com/assets/colab-badge.svg\" alt=\"Open In Colab\"/></a>"
      ]
    },
    {
      "cell_type": "code",
      "metadata": {
        "id": "tgSDOUPqon3Y",
        "colab_type": "code",
        "colab": {}
      },
      "source": [
        ""
      ],
      "execution_count": 0,
      "outputs": []
    },
    {
      "cell_type": "markdown",
      "metadata": {
        "id": "9OJuq2-SqXvM",
        "colab_type": "text"
      },
      "source": [
        "# Overview\n",
        "My goal is to understand how to input samples of people doing things like walking and falling (Human Activity) then use LSTM Deep Learning in Keras to figure out future samples.\n",
        "\n",
        "## Thanks to Those that Went Before\n",
        "\n",
        "### Datasets\n",
        "From my Googly research, there are two popular datasets for human activity:  \n",
        "-  [‘Activity Recognition Using Smart Phones Dataset’](https://archive.ics.uci.edu/ml/datasets/human+activity+recognition+using+smartphones) available as [one of the UCI datasets](https://archive.ics.uci.edu/ml/machine-learning-databases/00240/)\n",
        "- [The WISDM dataset](http://www.cis.fordham.edu/wisdm/dataset.php) available by going to the downloads link.  \n",
        "\n",
        "### Articles\n",
        "- [How to Develop RNN Models for Human Activity Recognition Time Series Classification](https://machinelearningmastery.com/how-to-develop-rnn-models-for-human-activity-recognition-time-series-classification/) uses the UCI dataset.\n",
        "- [Human Activity Recognition (HAR) Tutorial with Keras and Core ML (Part 1)](https://towardsdatascience.com/human-activity-recognition-har-tutorial-with-keras-and-core-ml-part-1-8c05e365dfa0)  uses the WISDM dataset.  \n",
        "- [Human Activity Recognition using LSTMs on Android — TensorFlow for Hackers (Part VI)](https://medium.com/@curiousily/human-activity-recognition-using-lstms-on-android-tensorflow-for-hackers-part-vi-492da5adef64) uses the WISDM dataset.  \n",
        "_NOTE: The last article appears to be a write up of [the YouTube video, Recognize real time human activity using LSTM (Long Short Term Memory-Deep Learning)](https://www.youtube.com/watch?v=RcYjYw4FN2A&t=654s)\n",
        "\n",
        "## Dataset\n",
        "The datasets seem very similar in what they provide.  I'll be (somewhat arbitrarily) using the WISDM dataset.\n",
        "  \n"
      ]
    },
    {
      "cell_type": "markdown",
      "metadata": {
        "id": "e3GNa-2Bq-Us",
        "colab_type": "text"
      },
      "source": [
        "# Load Data\n",
        "- [Downloaded file](http://www.cis.fordham.edu/wisdm/dataset.php)\n",
        "- Unzipped and copied the folder onto my Google Drive.\n",
        "- Mounted Google Drive.  \n",
        "- Read the data into numpy arrays.\n",
        "\n"
      ]
    },
    {
      "cell_type": "code",
      "metadata": {
        "id": "P2pt1gMGrFxA",
        "colab_type": "code",
        "outputId": "26cb0974-5a0d-4161-e912-c48609088f1b",
        "colab": {
          "base_uri": "https://localhost:8080/",
          "height": 127
        }
      },
      "source": [
        "#\n",
        "# Mount Google Drive.\n",
        "#\n",
        "from google.colab import drive\n",
        "drive.mount('/content/drive')"
      ],
      "execution_count": 2,
      "outputs": [
        {
          "output_type": "stream",
          "text": [
            "Go to this URL in a browser: https://accounts.google.com/o/oauth2/auth?client_id=947318989803-6bn6qk8qdgf4n4g3pfee6491hc0brc4i.apps.googleusercontent.com&redirect_uri=urn%3Aietf%3Awg%3Aoauth%3A2.0%3Aoob&scope=email%20https%3A%2F%2Fwww.googleapis.com%2Fauth%2Fdocs.test%20https%3A%2F%2Fwww.googleapis.com%2Fauth%2Fdrive%20https%3A%2F%2Fwww.googleapis.com%2Fauth%2Fdrive.photos.readonly%20https%3A%2F%2Fwww.googleapis.com%2Fauth%2Fpeopleapi.readonly&response_type=code\n",
            "\n",
            "Enter your authorization code:\n",
            "··········\n",
            "Mounted at /content/drive\n"
          ],
          "name": "stdout"
        }
      ]
    },
    {
      "cell_type": "markdown",
      "metadata": {
        "id": "4B7aH7FFeOzi",
        "colab_type": "text"
      },
      "source": [
        "## Data oops in WISDM Data?\n",
        "Wha?  There is a semicolon at the end of each row...I'll use sed to remove it (using....'hey sed, when you see a ; remove it...')"
      ]
    },
    {
      "cell_type": "code",
      "metadata": {
        "id": "_o6uqLQGe39Z",
        "colab_type": "code",
        "colab": {
          "base_uri": "https://localhost:8080/",
          "height": 107
        },
        "outputId": "e0ce3430-1835-4c0e-c362-c998acbec650"
      },
      "source": [
        "! head -5 '/content/drive/My Drive/Colab Notebooks/WISDM_ar_v1.1/WISDM_ar_v1.1_raw.txt'"
      ],
      "execution_count": 3,
      "outputs": [
        {
          "output_type": "stream",
          "text": [
            "33,Jogging,49105962326000,-0.6946377,12.680544,0.50395286;\r\n",
            "33,Jogging,49106062271000,5.012288,11.264028,0.95342433;\r\n",
            "33,Jogging,49106112167000,4.903325,10.882658,-0.08172209;\r\n",
            "33,Jogging,49106222305000,-0.61291564,18.496431,3.0237172;\r\n",
            "33,Jogging,49106332290000,-1.1849703,12.108489,7.205164;\r\n"
          ],
          "name": "stdout"
        }
      ]
    },
    {
      "cell_type": "code",
      "metadata": {
        "id": "D491yfdCkZTk",
        "colab_type": "code",
        "colab": {}
      },
      "source": [
        "\n",
        "!sed 's/;//' '/content/drive/My Drive/Colab Notebooks/WISDM_ar_v1.1/WISDM_ar_v1.1_raw.txt'  > '/content/drive/My Drive/Colab Notebooks/WISDM_ar_v1.1/WISDM_ar_v1.1_raw.nosemi'"
      ],
      "execution_count": 0,
      "outputs": []
    },
    {
      "cell_type": "code",
      "metadata": {
        "id": "zkSLc20zlA-9",
        "colab_type": "code",
        "colab": {
          "base_uri": "https://localhost:8080/",
          "height": 107
        },
        "outputId": "648be744-1a5c-418c-899c-f7a14aa9bc7c"
      },
      "source": [
        "! head -5 '/content/drive/My Drive/Colab Notebooks/WISDM_ar_v1.1/WISDM_ar_v1.1_raw.nosemi'"
      ],
      "execution_count": 19,
      "outputs": [
        {
          "output_type": "stream",
          "text": [
            "33,Jogging,49105962326000,-0.6946377,12.680544,0.50395286\r\n",
            "33,Jogging,49106062271000,5.012288,11.264028,0.95342433\r\n",
            "33,Jogging,49106112167000,4.903325,10.882658,-0.08172209\r\n",
            "33,Jogging,49106222305000,-0.61291564,18.496431,3.0237172\r\n",
            "33,Jogging,49106332290000,-1.1849703,12.108489,7.205164\r\n"
          ],
          "name": "stdout"
        }
      ]
    },
    {
      "cell_type": "markdown",
      "metadata": {
        "id": "vh_Ckzsdnpr5",
        "colab_type": "text"
      },
      "source": [
        "## Back to loading data\n",
        "Now we can talk data loading..notice I'm loading the nosemi file...."
      ]
    },
    {
      "cell_type": "code",
      "metadata": {
        "id": "QTxf7LC3z-sw",
        "colab_type": "code",
        "outputId": "758c75b9-2bd3-49b2-d046-2934825dada9",
        "colab": {
          "base_uri": "https://localhost:8080/",
          "height": 202
        }
      },
      "source": [
        "#\n",
        "# Load Data into a Pandas DataFrame.\n",
        "#\n",
        "# TODO: The z-axis comes in as an object = note the semicolon as the end.  Hmmm....\n",
        "import pandas as pd\n",
        "columns = ['user','activity','timestamp','x-axis','y-axis','z-axis']\n",
        "df = pd.read_csv('/content/drive/My Drive/Colab Notebooks/WISDM_ar_v1.1/WISDM_ar_v1.1_raw.nosemi',header=None,names=columns,sep=',')\n",
        "df.dropna()\n",
        "df.head()"
      ],
      "execution_count": 20,
      "outputs": [
        {
          "output_type": "execute_result",
          "data": {
            "text/html": [
              "<div>\n",
              "<style scoped>\n",
              "    .dataframe tbody tr th:only-of-type {\n",
              "        vertical-align: middle;\n",
              "    }\n",
              "\n",
              "    .dataframe tbody tr th {\n",
              "        vertical-align: top;\n",
              "    }\n",
              "\n",
              "    .dataframe thead th {\n",
              "        text-align: right;\n",
              "    }\n",
              "</style>\n",
              "<table border=\"1\" class=\"dataframe\">\n",
              "  <thead>\n",
              "    <tr style=\"text-align: right;\">\n",
              "      <th></th>\n",
              "      <th>user</th>\n",
              "      <th>activity</th>\n",
              "      <th>timestamp</th>\n",
              "      <th>x-axis</th>\n",
              "      <th>y-axis</th>\n",
              "      <th>z-axis</th>\n",
              "    </tr>\n",
              "  </thead>\n",
              "  <tbody>\n",
              "    <tr>\n",
              "      <th>0</th>\n",
              "      <td>33</td>\n",
              "      <td>Jogging</td>\n",
              "      <td>49105962326000</td>\n",
              "      <td>-0.694638</td>\n",
              "      <td>12.680544</td>\n",
              "      <td>0.503953</td>\n",
              "    </tr>\n",
              "    <tr>\n",
              "      <th>1</th>\n",
              "      <td>33</td>\n",
              "      <td>Jogging</td>\n",
              "      <td>49106062271000</td>\n",
              "      <td>5.012288</td>\n",
              "      <td>11.264028</td>\n",
              "      <td>0.953424</td>\n",
              "    </tr>\n",
              "    <tr>\n",
              "      <th>2</th>\n",
              "      <td>33</td>\n",
              "      <td>Jogging</td>\n",
              "      <td>49106112167000</td>\n",
              "      <td>4.903325</td>\n",
              "      <td>10.882658</td>\n",
              "      <td>-0.081722</td>\n",
              "    </tr>\n",
              "    <tr>\n",
              "      <th>3</th>\n",
              "      <td>33</td>\n",
              "      <td>Jogging</td>\n",
              "      <td>49106222305000</td>\n",
              "      <td>-0.612916</td>\n",
              "      <td>18.496431</td>\n",
              "      <td>3.023717</td>\n",
              "    </tr>\n",
              "    <tr>\n",
              "      <th>4</th>\n",
              "      <td>33</td>\n",
              "      <td>Jogging</td>\n",
              "      <td>49106332290000</td>\n",
              "      <td>-1.184970</td>\n",
              "      <td>12.108489</td>\n",
              "      <td>7.205164</td>\n",
              "    </tr>\n",
              "  </tbody>\n",
              "</table>\n",
              "</div>"
            ],
            "text/plain": [
              "   user activity       timestamp    x-axis     y-axis    z-axis\n",
              "0    33  Jogging  49105962326000 -0.694638  12.680544  0.503953\n",
              "1    33  Jogging  49106062271000  5.012288  11.264028  0.953424\n",
              "2    33  Jogging  49106112167000  4.903325  10.882658 -0.081722\n",
              "3    33  Jogging  49106222305000 -0.612916  18.496431  3.023717\n",
              "4    33  Jogging  49106332290000 -1.184970  12.108489  7.205164"
            ]
          },
          "metadata": {
            "tags": []
          },
          "execution_count": 20
        }
      ]
    },
    {
      "cell_type": "markdown",
      "metadata": {
        "id": "ppHCJQeoq9Zy",
        "colab_type": "text"
      },
      "source": [
        ""
      ]
    },
    {
      "cell_type": "markdown",
      "metadata": {
        "id": "hoic4vhKob4v",
        "colab_type": "text"
      },
      "source": [
        "# Explore\n",
        "So what's in this dataset?\n",
        "## Rows and Columns\n",
        "There are 1,098,204 accelerometer measurements.  Along with the x,y,z axis columns, there are columns that specify which user was wearing the accelerometer when the measurement occurred.  What activity the user was doing, and the a timestamp that identifies where the measurement is within the time series."
      ]
    },
    {
      "cell_type": "code",
      "metadata": {
        "id": "UGPW9g5m1YKg",
        "colab_type": "code",
        "outputId": "e887dbe8-fdaa-40ba-855d-f1cf4ac985ad",
        "colab": {
          "base_uri": "https://localhost:8080/",
          "height": 215
        }
      },
      "source": [
        "df.info()"
      ],
      "execution_count": 22,
      "outputs": [
        {
          "output_type": "stream",
          "text": [
            "<class 'pandas.core.frame.DataFrame'>\n",
            "RangeIndex: 1098204 entries, 0 to 1098203\n",
            "Data columns (total 6 columns):\n",
            "user         1098204 non-null int64\n",
            "activity     1098204 non-null object\n",
            "timestamp    1098204 non-null int64\n",
            "x-axis       1098204 non-null float64\n",
            "y-axis       1098204 non-null float64\n",
            "z-axis       1098203 non-null float64\n",
            "dtypes: float64(3), int64(2), object(1)\n",
            "memory usage: 50.3+ MB\n"
          ],
          "name": "stdout"
        }
      ]
    },
    {
      "cell_type": "markdown",
      "metadata": {
        "id": "mvYFVFVmrKBG",
        "colab_type": "text"
      },
      "source": [
        "## Number of Readings by Activity\n",
        "A large chunk of the measurements are done for users walking.  There are far fewer measurements for folks standing."
      ]
    },
    {
      "cell_type": "code",
      "metadata": {
        "id": "YqppVYK_e-mn",
        "colab_type": "code",
        "colab": {
          "base_uri": "https://localhost:8080/",
          "height": 545
        },
        "outputId": "2028204d-4da9-433b-ff8b-287b0c34073d"
      },
      "source": [
        "countOfActivities = df['activity'].value_counts()\n",
        "countOfActivities.plot(kind='bar',title='Number of readings by Activity Type',figsize=(14,8),grid=True);"
      ],
      "execution_count": 32,
      "outputs": [
        {
          "output_type": "display_data",
          "data": {
            "image/png": "[encoded data removed]",
            "text/plain": [
              "<Figure size 1008x576 with 1 Axes>"
            ]
          },
          "metadata": {
            "tags": []
          }
        }
      ]
    }
  ]
}